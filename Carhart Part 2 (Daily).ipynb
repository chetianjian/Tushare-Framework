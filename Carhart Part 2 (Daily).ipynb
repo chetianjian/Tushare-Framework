{
 "cells": [
  {
   "cell_type": "markdown",
   "id": "8c086664",
   "metadata": {},
   "source": [
    "# 沪深300数据集的算法实现 (Daily)\n",
    "对我所实现的模型的缺陷的设想：\n",
    "1. 未剔除剔除黑名单股票和不可交易股票，其中黑名单包括新股（上市不满12个月）、风险警示股、待退市股和净资产为负股，不可交易股票包括停牌股票和一字板股票。\n",
    "2. 未考虑26年间持仓股票（可能）遭遇退市的情况。\n",
    "3. 作为每日换仓的算法，应当考虑至少万分之五的佣金和手续费。\n",
    "4. 日频换仓应更偏向于短期的趋势线交易，在模型中加入包含Market Value和Book-to-Market ratio的基本面因子是否有效？同时没有考虑到短期的不正常波动（应当设置止损和止盈点？或者根据股价所在的历史价格百分位设置惩罚因子？）\n",
    "5. 动量积累的路径很重要！在同一时间段内看似相同（实则由不同路径积累）的动量可能在该时间段内保持上涨的天数相差巨大（例如来源于短期的高波动）。"
   ]
  },
  {
   "cell_type": "code",
   "execution_count": 1,
   "id": "28479a88",
   "metadata": {},
   "outputs": [],
   "source": [
    "import akshare as ak\n",
    "import numpy as np\n",
    "import pandas as pd\n",
    "import matplotlib.pyplot as plt\n",
    "import datetime\n",
    "import re"
   ]
  },
  {
   "cell_type": "markdown",
   "id": "a8e63485",
   "metadata": {},
   "source": [
    "# 1. 从本地读取数据"
   ]
  },
  {
   "cell_type": "code",
   "execution_count": 2,
   "id": "83b14120",
   "metadata": {},
   "outputs": [],
   "source": [
    "# 从本地读取HS300所有成分股自1995年1月1日至2021年12月31日间所有交易日的收盘价、日回报率、账面市值比与市值。\n",
    "close_df = pd.read_csv(\"C:\\\\Users\\\\asus\\\\Desktop\\\\Carhart\\\\HS300_data\\\\close.csv\", \n",
    "                       index_col = \"trade_date\")\n",
    "return_df = pd.read_csv(\"C:\\\\Users\\\\asus\\\\Desktop\\\\Carhart\\\\HS300_data\\\\return.csv\", \n",
    "                        index_col = \"trade_date\")\n",
    "BM_df = pd.read_csv(\"C:\\\\Users\\\\asus\\\\Desktop\\\\Carhart\\\\HS300_data\\\\BM.csv\", \n",
    "                    index_col = \"trade_date\")\n",
    "MV_df = pd.read_csv(\"C:\\\\Users\\\\asus\\\\Desktop\\\\Carhart\\\\HS300_data\\\\MV.csv\", \n",
    "                    index_col = \"trade_date\")\n",
    "\n",
    "# 将利率转换为小数\n",
    "return_df = return_df / 100"
   ]
  },
  {
   "cell_type": "code",
   "execution_count": 3,
   "id": "a23b7fca",
   "metadata": {},
   "outputs": [],
   "source": [
    "# 将日期转换为datetime\n",
    "close_df.index = pd.to_datetime(close_df.index)\n",
    "return_df.index = pd.to_datetime(return_df.index)\n",
    "BM_df.index = pd.to_datetime(BM_df.index)\n",
    "MV_df.index = pd.to_datetime(MV_df.index)"
   ]
  },
  {
   "cell_type": "code",
   "execution_count": 4,
   "id": "0b903070",
   "metadata": {},
   "outputs": [],
   "source": [
    "# 从本地读取用以计算无风险收益率的相关指标数据，并\n",
    "# 三个月期定期银行存款利率\n",
    "deposit_interest_rate = pd.read_csv(\n",
    "    \"C:\\\\Users\\\\asus\\\\Desktop\\\\Carhart\\\\HS300_data\\\\deposit_interest_rate.csv\", \n",
    "    encoding = \"gbk\").fillna(method = \"ffill\")[[\"pubDate\", \"fixedDepositRate3Month\"]]\n",
    "\n",
    "# 三个月期中央银行票据的票面利率\n",
    "central_bank_bill = pd.read_csv(\n",
    "    \"C:\\\\Users\\\\asus\\\\Desktop\\\\Carhart\\\\HS300_data\\\\central_bank_bill.csv\", \n",
    "    encoding = \"gbk\").fillna(method = \"ffill\")[[\"short_name\", \"list_date\"]]\n",
    "\n",
    "# 上海银行间三个月同业拆放利率\n",
    "shibor = pd.read_csv(\n",
    "    \"C:\\\\Users\\\\asus\\\\Desktop\\\\Carhart\\\\HS300_data\\\\shibor.csv\", \n",
    "    encoding = \"gbk\").fillna(method = \"ffill\")"
   ]
  },
  {
   "cell_type": "markdown",
   "id": "17a75211",
   "metadata": {},
   "source": [
    "# 2. 进行利率转换(以91记3个月，复利计息)以及相关数据的操作\n",
    "\n",
    "| 时间(t) | 数据来源 |\n",
    "| :--- | ----: |\n",
    "| t $\\leq$ 2002-08-06 | 三个月期定期银行存款利率 |\n",
    "| 2002-08-07 $\\leq$ t $\\leq$ 2006-10-07 | 三个月期中央银行票据的票面利率 |\n",
    "| 2006-10-08 $\\leq$ t | 上海银行间三个月同业拆放利率 |\n"
   ]
  },
  {
   "cell_type": "code",
   "execution_count": 5,
   "id": "d5f575b6",
   "metadata": {
    "scrolled": true
   },
   "outputs": [],
   "source": [
    "deposit_interest_rate = deposit_interest_rate.rename(columns = {\"fixedDepositRate3Month\": \"rate\",\n",
    "                                                                \"pubDate\": \"date\"})\n",
    "deposit_interest_rate[\"date\"] = pd.to_datetime(deposit_interest_rate[\"date\"])\n",
    "\n",
    "# 利率转为小数再转为等价单日利息\n",
    "deposit_interest_rate[\"rate\"] = (1 + deposit_interest_rate[\"rate\"] / 100)**(1/91) - 1"
   ]
  },
  {
   "cell_type": "code",
   "execution_count": 6,
   "id": "7f650dff",
   "metadata": {},
   "outputs": [],
   "source": [
    "central_bank_bill[\"list_date\"] = pd.to_datetime(central_bank_bill[\"list_date\"])\n",
    "central_bank_bill[\"rate\"] = None\n",
    "central_bank_bill.rename(columns={\"list_date\": \"date\"}, inplace = True)\n",
    "billLst = [['2003.04.30',2.1800],['2003.05.07',2.1500],['2003.05.14',2.1900],['2003.05.21',2.1500],\n",
    "           ['2003.05.28',2.1900],['2003.06.04',2.1900],['2003.06.11',2.2300],['2003.06.18',2.2700],\n",
    "           ['2003.06.25',2.3100],['2003.07.02',2.3100],['2003.07.09',2.3100],['2003.07.16',2.3100],\n",
    "           ['2003.07.23',2.3100],['2003.07.30',2.3100],['2003.08.06',2.3100],['2003.08.13',2.2700],\n",
    "           ['2003.08.20',2.3500],['2003.08.27',2.4300],['2003.09.03',2.6600],['2003.09.10',2.7100],\n",
    "           ['2003.09.17',2.7100],['2003.09.24',2.6600],['2003.10.15',2.7200],['2003.10.22',2.6800],\n",
    "           ['2003.10.29',2.7200],['2003.11.12',2.8000],['2003.11.19',2.7200],['2003.11.26',2.4400],\n",
    "           ['2003.12.03',2.4600],['2003.12.10',2.4600],['2003.12.17',2.4600],['2003.12.24',2.4600],\n",
    "           ['2003.12.31',2.4600],['2004.01.07',2.4600],['2004.01.14',2.4600],['2004.01.21',2.4600],\n",
    "           ['2004.02.04',2.4600],['2004.02.11',2.3500],['2004.02.18',2.2700],['2004.02.25',2.0600],\n",
    "           ['2004.03.03',1.9900],['2004.03.10',1.9100],['2004.03.17',1.8700],['2004.03.24',2.1900],\n",
    "           ['2004.03.31',2.1100],['2004.04.07',2.1400],['2004.04.14',2.1400],['2004.05.19',2.8000],\n",
    "           ['2004.05.26',2.7200],['2004.06.02',2.8000],['2004.06.23',2.8000],['2004.06.30',2.8800],\n",
    "           ['2004.07.07',2.8400],['2004.07.14',2.8400],['2004.07.21',2.8800],['2004.08.06',2.8600],\n",
    "           ['2004.08.13',2.8200],['2004.08.20',2.7400],['2004.08.27',2.6200],['2004.09.03',2.4200],\n",
    "           ['2004.09.10',2.3000],['2004.09.17',2.4200],['2004.09.24',2.5000],['2004.09.29',2.4200],\n",
    "           ['2004.10.15',2.4600],['2004.10.22',2.5400],['2004.10.29',2.5800],['2004.11.05',2.5800],\n",
    "           ['2004.11.12',2.5300],['2004.11.19',2.5000],['2004.11.26',2.5000],['2004.12.03',2.4600],\n",
    "           ['2004.12.10',2.1400],['2004.12.17',2.4600],['2004.12.24',2.6600],['2004.12.31',2.6600],\n",
    "           ['2005.01.07',2.5800],['2005.01.14',2.5400],['2005.01.21',2.3800],['2005.02.18',2.3800],\n",
    "           ['2005.02.25',2.2600],['2005.03.04',2.1800],['2005.03.11',2.0200],['2005.03.17',2.3800],\n",
    "           ['2005.03.18',1.4500],['2005.03.25',1.2900],['2005.04.01',1.2100],['2005.04.08',1.1700],\n",
    "           ['2005.04.15',1.0900],['2005.04.22',1.1700],['2005.04.29',1.0900],['2005.05.13',1.2100],\n",
    "           ['2005.05.20',1.2100],['2005.05.27',1.2100],['2005.06.03',1.1700],['2005.06.10',1.0900],\n",
    "           ['2005.06.17',1.0900],['2005.06.24',1.1700],['2005.07.01',1.2100],['2005.07.08',1.1500],\n",
    "           ['2005.07.15',1.1300],['2005.07.22',1.1300],['2005.07.29',1.0900],['2005.08.05',1.0900],\n",
    "           ['2005.08.12',1.0900],['2005.08.19',1.0500],['2005.08.26',1.0900],['2005.09.02',1.0900],\n",
    "           ['2005.09.09',1.0900],['2005.09.16',1.1300],['2005.09.23',1.1700],['2005.09.30',1.1700],\n",
    "           ['2005.10.14',1.1700],['2005.10.21',1.1700],['2005.10.28',1.1700],['2005.11.04',1.2200],\n",
    "           ['2005.11.11',1.3700],['2005.11.18',1.4900],['2005.11.25',1.6100],['2005.12.02',1.8100],\n",
    "           ['2006.02.10',1.7300],['2006.02.17',1.7300],['2006.02.24',1.7700],['2006.03.03',1.7300],\n",
    "           ['2006.03.10',1.7300],['2006.03.24',1.7700],['2006.03.31',1.8100],['2006.04.07',1.8100],\n",
    "           ['2006.04.14',1.8500],['2006.04.21',1.8900],['2006.04.28',1.9800],['2006.05.12',2.0200],\n",
    "           ['2006.05.19',2.0200],['2006.05.26',2.0600],['2006.06.02',2.1000],['2006.06.09',2.1400],\n",
    "           ['2006.06.16',2.1800],['2006.06.23',2.2600],['2006.06.30',2.3400],['2006.07.07',2.3700],\n",
    "           ['2006.07.14',2.3800],['2006.07.21',2.3800],['2006.07.28',2.3800],['2006.08.04',2.4200],\n",
    "           ['2006.08.11',2.4200],['2006.08.18',2.5000],['2006.08.25',2.5400],['2006.09.01',2.5400],\n",
    "           ['2006.09.08',2.5000],['2006.09.15',2.4600],['2006.09.22',2.4600],['2006.09.29',2.4600],\n",
    "           ['2006.10.13',2.5000]]\n",
    "\n",
    "billLst = list(zip(*zip(list(map(lambda x: x[0],billLst)), list(map(lambda x: x[1],billLst)))))\n",
    "billLst = pd.DataFrame(billLst[0], index = billLst[1]).reset_index()\n",
    "billLst = billLst.rename(columns={\"index\": \"rate\", 0: \"date\"})\n",
    "billLst[\"date\"] = pd.to_datetime(billLst[\"date\"])\n",
    "central_bank_bill = pd.merge(central_bank_bill, billLst, how = \"inner\", on=\"date\")\n",
    "del central_bank_bill[\"rate_x\"], central_bank_bill[\"short_name\"]\n",
    "central_bank_bill = central_bank_bill.rename(columns = {\"rate_y\": \"rate\"})\n",
    "central_bank_bill.iloc[0, 0] = pd.to_datetime(\"2002-08-07\")\n",
    "\n",
    "# 利率转为小数再转为等价单日利息\n",
    "central_bank_bill[\"rate\"] = (1 + central_bank_bill[\"rate\"] / 100)**(1/91) - 1\n"
   ]
  },
  {
   "cell_type": "code",
   "execution_count": 7,
   "id": "d7d5b805",
   "metadata": {
    "scrolled": true
   },
   "outputs": [
    {
     "data": {
      "text/html": [
       "<div>\n",
       "<style scoped>\n",
       "    .dataframe tbody tr th:only-of-type {\n",
       "        vertical-align: middle;\n",
       "    }\n",
       "\n",
       "    .dataframe tbody tr th {\n",
       "        vertical-align: top;\n",
       "    }\n",
       "\n",
       "    .dataframe thead th {\n",
       "        text-align: right;\n",
       "    }\n",
       "</style>\n",
       "<table border=\"1\" class=\"dataframe\">\n",
       "  <thead>\n",
       "    <tr style=\"text-align: right;\">\n",
       "      <th></th>\n",
       "      <th>date</th>\n",
       "      <th>rate</th>\n",
       "    </tr>\n",
       "  </thead>\n",
       "  <tbody>\n",
       "    <tr>\n",
       "      <th>0</th>\n",
       "      <td>2002-08-07</td>\n",
       "      <td>0.000310</td>\n",
       "    </tr>\n",
       "    <tr>\n",
       "      <th>1</th>\n",
       "      <td>2004-08-13</td>\n",
       "      <td>0.000306</td>\n",
       "    </tr>\n",
       "    <tr>\n",
       "      <th>2</th>\n",
       "      <td>2004-08-20</td>\n",
       "      <td>0.000297</td>\n",
       "    </tr>\n",
       "    <tr>\n",
       "      <th>3</th>\n",
       "      <td>2004-08-27</td>\n",
       "      <td>0.000284</td>\n",
       "    </tr>\n",
       "    <tr>\n",
       "      <th>4</th>\n",
       "      <td>2004-09-03</td>\n",
       "      <td>0.000263</td>\n",
       "    </tr>\n",
       "    <tr>\n",
       "      <th>...</th>\n",
       "      <td>...</td>\n",
       "      <td>...</td>\n",
       "    </tr>\n",
       "    <tr>\n",
       "      <th>93</th>\n",
       "      <td>2006-09-08</td>\n",
       "      <td>0.000271</td>\n",
       "    </tr>\n",
       "    <tr>\n",
       "      <th>94</th>\n",
       "      <td>2006-09-15</td>\n",
       "      <td>0.000267</td>\n",
       "    </tr>\n",
       "    <tr>\n",
       "      <th>95</th>\n",
       "      <td>2006-09-22</td>\n",
       "      <td>0.000267</td>\n",
       "    </tr>\n",
       "    <tr>\n",
       "      <th>96</th>\n",
       "      <td>2006-09-29</td>\n",
       "      <td>0.000267</td>\n",
       "    </tr>\n",
       "    <tr>\n",
       "      <th>97</th>\n",
       "      <td>2006-10-13</td>\n",
       "      <td>0.000271</td>\n",
       "    </tr>\n",
       "  </tbody>\n",
       "</table>\n",
       "<p>98 rows × 2 columns</p>\n",
       "</div>"
      ],
      "text/plain": [
       "         date      rate\n",
       "0  2002-08-07  0.000310\n",
       "1  2004-08-13  0.000306\n",
       "2  2004-08-20  0.000297\n",
       "3  2004-08-27  0.000284\n",
       "4  2004-09-03  0.000263\n",
       "..        ...       ...\n",
       "93 2006-09-08  0.000271\n",
       "94 2006-09-15  0.000267\n",
       "95 2006-09-22  0.000267\n",
       "96 2006-09-29  0.000267\n",
       "97 2006-10-13  0.000271\n",
       "\n",
       "[98 rows x 2 columns]"
      ]
     },
     "execution_count": 7,
     "metadata": {},
     "output_type": "execute_result"
    }
   ],
   "source": [
    "central_bank_bill"
   ]
  },
  {
   "cell_type": "code",
   "execution_count": 8,
   "id": "36cd9ebd",
   "metadata": {
    "scrolled": true
   },
   "outputs": [],
   "source": [
    "shibor = shibor[[\"date\", \"shibor3M\"]].rename(columns = {\"shibor3M\": \"rate\"})\n",
    "shibor[\"date\"] = pd.to_datetime(shibor[\"date\"].values)\n",
    "shibor.iloc[-1, 0] = pd.to_datetime(\"2021-12-31\")\n",
    "\n",
    "# 利率转为小数再转为等价单日利息\n",
    "shibor[\"rate\"] = (1 + shibor[\"rate\"] / 100)**(1/91) - 1"
   ]
  },
  {
   "cell_type": "markdown",
   "id": "c5486b65",
   "metadata": {},
   "source": [
    "# 3. 参数设置 "
   ]
  },
  {
   "cell_type": "code",
   "execution_count": 9,
   "id": "bbe5dae4",
   "metadata": {},
   "outputs": [],
   "source": [
    "# 初始时间设置\n",
    "startDate, endDate = \"19950101\", \"20211231\"  # 时间区间\n",
    "\n",
    "# 检查时间区间是否有效\n",
    "if int(startDate) > int(endDate) or int(endDate) > datetime.date.today().year * 10000 + \\\n",
    "        datetime.date.today().month * 100 + dat......etime.date.today().day:\n",
    "    print(\"Invalid Time Interval\")\n",
    "    quit()"
   ]
  },
  {
   "cell_type": "code",
   "execution_count": 10,
   "id": "7561fd48",
   "metadata": {},
   "outputs": [],
   "source": [
    "# 其它初始模型参数设置\n",
    "tradePercent = 0.1  # 多空比例\n",
    "\n",
    "# 仅在月频交易中使用\n",
    "laggedPeriod = pd.Timedelta(\"30 D\")  # 从今天倒推不计入windowPeriod的时间\n",
    "windowPeriod = pd.Timedelta(str(30 * 11) + \" D\")  # 回溯期，以计算累计收益率\n",
    "holdPeriod = pd.Timedelta(\"30 D\")  # 持有新投资组合的时间"
   ]
  },
  {
   "cell_type": "code",
   "execution_count": 11,
   "id": "f0667bf2",
   "metadata": {},
   "outputs": [],
   "source": [
    "# 获取交易日历\n",
    "def GetTradeCalender(start: str, end: str) -> pd.Series:\n",
    "    cal = ak.tool_trade_date_hist_sina()\n",
    "    return cal[\"trade_date\"][\n",
    "        (datetime.date(int(start[:4]),int(start[4:6]), int(start[6:])) <= cal[\"trade_date\"]) & \n",
    "        (cal[\"trade_date\"] <= datetime.date(int(end[:4]), int(end[4:6]), int(end[6:])))]\n",
    "\n",
    "calender = pd.to_datetime(GetTradeCalender(startDate, endDate))"
   ]
  },
  {
   "cell_type": "markdown",
   "id": "b3498816",
   "metadata": {},
   "source": [
    "## 对于沪深300选取初始时间"
   ]
  },
  {
   "cell_type": "code",
   "execution_count": 12,
   "id": "a5c38977",
   "metadata": {},
   "outputs": [],
   "source": [
    "def CountValidData(row):\n",
    "    return len(row) - sum(pd.isnull(row))\n",
    "\n",
    "# 计算沪深300每日有效数据，选取开始日期应满足达到一定有效数据量\n",
    "dailyValidData = pd.Series(list(map(min, close_df.apply(CountValidData, axis = 1), \n",
    "                                    return_df.apply(CountValidData, axis = 1), \n",
    "                                    BM_df.apply(CountValidData, axis = 1), \n",
    "                                    MV_df.apply(CountValidData, axis = 1))), \n",
    "                           index = calender.values, name = \"trade_date\")"
   ]
  },
  {
   "cell_type": "code",
   "execution_count": 13,
   "id": "2c254993",
   "metadata": {
    "scrolled": true
   },
   "outputs": [
    {
     "name": "stdout",
     "output_type": "stream",
     "text": [
      "[<matplotlib.lines.Line2D object at 0x000001B92C9806D0>]\n"
     ]
    },
    {
     "data": {
      "image/png": "[encoded data removed]",
      "text/plain": [
       "<Figure size 432x288 with 1 Axes>"
      ]
     },
     "metadata": {
      "needs_background": "light"
     },
     "output_type": "display_data"
    }
   ],
   "source": [
    "print(plt.plot(dailyValidData.index, dailyValidData.values, ls=\"-\", lw=2, label = \"Valid Data Available\"))"
   ]
  },
  {
   "cell_type": "markdown",
   "id": "090dd232",
   "metadata": {},
   "source": [
    "According to the plot, we may change our start date from 2004-01-01, since when the data were becoming sufficient for conducting analysis, however, this step can be skipped if we use all stocks in the population space. "
   ]
  },
  {
   "cell_type": "code",
   "execution_count": 14,
   "id": "9723cf8b",
   "metadata": {},
   "outputs": [],
   "source": [
    "# 缩小数据集至可行范围（自2004年1月1日）\n",
    "close_df = close_df[close_df.index >= pd.to_datetime(\"2004-01-01\")]\n",
    "return_df = return_df[return_df.index >= pd.to_datetime(\"2004-01-01\")]\n",
    "BM_df = BM_df[BM_df.index >= pd.to_datetime(\"2004-01-01\")]\n",
    "MV_df = MV_df[MV_df.index >= pd.to_datetime(\"2004-01-01\")]\n",
    "calender = calender[calender.values >= pd.to_datetime(\"2004-01-01\")]"
   ]
  },
  {
   "cell_type": "markdown",
   "id": "bcceef42",
   "metadata": {},
   "source": [
    "# 4. 计算各因子\n",
    "According to $\\mathbf{\\mathit{\\mbox{On Persistence in Mutual Fund Performanc}}}$ by $\\mathbf{\\mbox{MarK M. Carhart}}$ himself, the model can be interpreted as the following formula:\n",
    "\n",
    "$$\n",
    "\\mathbb{E}[r_{p,t}] - r_{f} = \\alpha + \\beta_{RMRF_{p,t}}RMRF_{p,t} + \\beta_{SMB_{p,t}}SMB_{p,t} + \\beta_{HML_{p,t}}HML_{p,t} + \\beta_{UMD_{p,t}}UMD_{p,t}\n",
    "$$\n",
    "\n",
    "Where $r_{f}$ is the risk-free interest rate, RMRF is the market risk premium = $r_{M}-r_{f}$, and $\\mathbb{E}[r_{p, t}]$ is the expected return of portfolio under our assumptions."
   ]
  },
  {
   "cell_type": "markdown",
   "id": "32ae88ea",
   "metadata": {},
   "source": [
    "## 4.1. 根据算法建立表示动量的DataFrame，在日频交易中，以过去 12 天（剔除昨天）的11天计算累计收益率。"
   ]
  },
  {
   "cell_type": "code",
   "execution_count": 15,
   "id": "2e8e45bd",
   "metadata": {
    "scrolled": true
   },
   "outputs": [],
   "source": [
    "# 建立动量变量DataFrame\n",
    "momentum = return_df.copy()\n",
    "\n",
    "for days in range(2, 13):\n",
    "    momentum = return_df.copy().shift(days, axis = 0)"
   ]
  },
  {
   "cell_type": "code",
   "execution_count": 16,
   "id": "7661e6de",
   "metadata": {},
   "outputs": [],
   "source": [
    "# 根据日期得到该日各支股票的总市值权重\n",
    "def GetWeightArray(date: pd.datetime) -> np.array:\n",
    "    row = MV_df[MV_df.index == date].iloc[0].values\n",
    "    return row / np.nansum(row)\n",
    "\n",
    "\n",
    "# 根据日期得到该日的市场回报率\n",
    "def GetMarketReturn(date: pd.datetime) -> float:\n",
    "    weight = GetWeightArray(date)\n",
    "    row = return_df[return_df.index == date].iloc[0].values\n",
    "    return np.nansum([weight[i]*row[i] for i in range(len(row))])\n",
    "\n",
    "\n",
    "# 定义函数，根据日期确定当日无风险收益率\n",
    "def RF(date: pd.datetime) -> float:\n",
    "    if date <= pd.to_datetime(\"2002-08-06\"):\n",
    "        df = deposit_interest_rate\n",
    "        \n",
    "    elif date <= pd.to_datetime(\"2006-10-07\"):\n",
    "        df = central_bank_bill\n",
    "    else:\n",
    "        df = shibor\n",
    "    \n",
    "    if df[date <= df.iloc[:, 0].values].shape[0] != 0:\n",
    "        return df[date <= df.iloc[:, 0].values].iloc[0, 1]\n",
    "    else:\n",
    "        raise Exception(\"Time Interval Exceeded!\")\n",
    "\n",
    "\n",
    "# 根据日期得到该日SMB因子\n",
    "def GetSMB(date: pd.datetime) -> float:\n",
    "    row = list(MV_df[MV_df.index == date].iloc[0].values)\n",
    "    weight = list(GetWeightArray(date))\n",
    "    returnRow = list(return_df[return_df.index == date].iloc[0].values)\n",
    "    \n",
    "    # 此处与之前不同在于，可能出现某股票某日市值不缺失但收益率缺失的情况（例如该股票停牌），\n",
    "    # 因此必须过滤掉这些公司，否则会影响筛选公司市值，因为当日不能交易则无法Long或者Short。\n",
    "    # 但以上函数不必过滤，尽管权重之和有可能不等于1，但并不会对算法产生本质影响。\n",
    "    for i in range(len(returnRow)-1, -1, -1):\n",
    "        if np.isnan(returnRow[i]) or np.isnan(row[i]):\n",
    "            weight.pop(i)\n",
    "            returnRow.pop(i)\n",
    "            row.pop(i)\n",
    "            \n",
    "    # 根据多空比例（分位数）确定long与short的标的。\n",
    "    [lower_bound, upper_bound] = np.quantile(row, [tradePercent, 1-tradePercent])\n",
    "    row, weight, returnRow = np.array(row), np.array(weight), np.array(returnRow)\n",
    "    return  np.dot(weight[row <= lower_bound], returnRow[row <= lower_bound]) - np.dot(weight[row >= upper_bound], returnRow[row >= upper_bound])\n",
    "    \n",
    "    \n",
    "# 根据日期得到该日HML因子\n",
    "def GetHML(date: pd.datetime) -> float:\n",
    "    row = list(BM_df[BM_df.index == date].iloc[0].values)\n",
    "    weight = list(GetWeightArray(date))\n",
    "    returnRow = list(return_df[return_df.index == date].iloc[0].values)\n",
    "    \n",
    "    # 同理，需要过滤当日无法交易的股票\n",
    "    for i in range(len(returnRow)-1, -1, -1):\n",
    "        if np.isnan(returnRow[i]) or np.isnan(row[i]):\n",
    "            weight.pop(i)\n",
    "            returnRow.pop(i)\n",
    "            row.pop(i)\n",
    "            \n",
    "    # 根据多空比例（分位数）确定long与short的标的。\n",
    "    [lower_bound, upper_bound] = np.quantile(row, [tradePercent, 1-tradePercent])\n",
    "    row, weight, returnRow = np.array(row), np.array(weight), np.array(returnRow)\n",
    "    return  np.dot(weight[row >= upper_bound], returnRow[row >= upper_bound]) - np.dot(weight[row <= lower_bound], returnRow[row <= lower_bound])\n",
    "\n",
    "\n",
    "# 根据日期得到该日UMD因子\n",
    "def GetUMD(date: pd.datetime) -> float:\n",
    "    row = list(momentum[momentum.index == date].iloc[0].values)\n",
    "    weight = list(GetWeightArray(date))\n",
    "    returnRow = list(return_df[return_df.index == date].iloc[0].values)\n",
    "    \n",
    "    # 同理，需要过滤当日无法交易的股票\n",
    "    for i in range(len(returnRow)-1, -1, -1):\n",
    "        if np.isnan(returnRow[i]) or np.isnan(row[i]):\n",
    "            weight.pop(i)\n",
    "            returnRow.pop(i)\n",
    "            row.pop(i)\n",
    "            \n",
    "    if row == []: \n",
    "        return np.nan\n",
    "    else:\n",
    "        # 根据多空比例（分位数）确定long与short的标的。\n",
    "        [lower_bound, upper_bound] = np.quantile(row, [tradePercent, 1-tradePercent])\n",
    "        row, weight, returnRow = np.array(row), np.array(weight), np.array(returnRow)\n",
    "        return  np.dot(weight[row >= upper_bound], returnRow[row >= upper_bound]) - np.dot(weight[row <= lower_bound], returnRow[row <= lower_bound])"
   ]
  },
  {
   "cell_type": "markdown",
   "id": "bb650956",
   "metadata": {},
   "source": [
    "## 4.2.  创建最终输出的因子DataFrame，并运算结果"
   ]
  },
  {
   "cell_type": "code",
   "execution_count": 17,
   "id": "169852b3",
   "metadata": {},
   "outputs": [],
   "source": [
    "fourFactor = pd.DataFrame({\"RF\": np.nan, \"MKT\": np.nan, \"RMRF\": np.nan , \"SMB\": np.nan, \n",
    "                           \"HML\": np.nan, \"UMD\": np.nan}, index = pd.to_datetime(calender.values))\n",
    "\n",
    "fourFactor[\"RF\"] = np.array(map(RF, fourFactor.index))\n",
    "fourFactor[\"MKT\"] = np.array(map(GetMarketReturn, fourFactor.index))\n",
    "fourFactor[\"RMRF\"] = fourFactor[\"MKT\"] - fourFactor[\"RF\"]\n",
    "fourFactor[\"SMB\"] = np.array(map(GetSMB, fourFactor.index))\n",
    "fourFactor[\"HML\"] = np.array(map(GetHML, fourFactor.index))\n",
    "fourFactor[\"UMD\"] = np.array(map(GetUMD, fourFactor.index))\n",
    "\n",
    "fourFactor.to_csv(\"C:\\\\Users\\\\asus\\\\Desktop\\\\Carhart\\\\HS300_data\\\\Factor_Result.csv\", \n",
    "                  index = True, header = True)"
   ]
  },
  {
   "cell_type": "code",
   "execution_count": 18,
   "id": "dfc0c9ec",
   "metadata": {},
   "outputs": [
    {
     "data": {
      "text/plain": [
       "4375"
      ]
     },
     "execution_count": 18,
     "metadata": {},
     "output_type": "execute_result"
    }
   ],
   "source": [
    "len(calender)"
   ]
  },
  {
   "cell_type": "code",
   "execution_count": null,
   "id": "a16b05be",
   "metadata": {},
   "outputs": [],
   "source": []
  }
 ],
 "metadata": {
  "kernelspec": {
   "display_name": "Python 3 (ipykernel)",
   "language": "python",
   "name": "python3"
  },
  "language_info": {
   "codemirror_mode": {
    "name": "ipython",
    "version": 3
   },
   "file_extension": ".py",
   "mimetype": "text/x-python",
   "name": "python",
   "nbconvert_exporter": "python",
   "pygments_lexer": "ipython3",
   "version": "3.9.12"
  },
  "latex_envs": {
   "LaTeX_envs_menu_present": true,
   "autoclose": false,
   "autocomplete": true,
   "bibliofile": "biblio.bib",
   "cite_by": "apalike",
   "current_citInitial": 1,
   "eqLabelWithNumbers": true,
   "eqNumInitial": 1,
   "hotkeys": {
    "equation": "Ctrl-E",
    "itemize": "Ctrl-I"
   },
   "labels_anchors": true,
   "latex_user_defs": false,
   "report_style_numbering": false,
   "user_envs_cfg": false
  },
  "toc": {
   "base_numbering": "1",
   "nav_menu": {},
   "number_sections": false,
   "sideBar": true,
   "skip_h1_title": false,
   "title_cell": "Table of Contents",
   "title_sidebar": "Contents",
   "toc_cell": false,
   "toc_position": {
    "height": "541.6px",
    "left": "772px",
    "top": "276.25px",
    "width": "165px"
   },
   "toc_section_display": true,
   "toc_window_display": false
  },
  "varInspector": {
   "cols": {
    "lenName": 16,
    "lenType": 16,
    "lenVar": 40
   },
   "kernels_config": {
    "python": {
     "delete_cmd_postfix": "",
     "delete_cmd_prefix": "del ",
     "library": "var_list.py",
     "varRefreshCmd": "print(var_dic_list())"
    },
    "r": {
     "delete_cmd_postfix": ") ",
     "delete_cmd_prefix": "rm(",
     "library": "var_list.r",
     "varRefreshCmd": "cat(var_dic_list()) "
    }
   },
   "position": {
    "height": "144.85px",
    "left": "836.8px",
    "right": "20px",
    "top": "130px",
    "width": "350px"
   },
   "types_to_exclude": [
    "module",
    "function",
    "builtin_function_or_method",
    "instance",
    "_Feature"
   ],
   "window_display": false
  }
 },
 "nbformat": 4,
 "nbformat_minor": 5
}
